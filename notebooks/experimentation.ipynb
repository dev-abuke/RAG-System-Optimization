{
 "cells": [
  {
   "cell_type": "code",
   "execution_count": 1,
   "metadata": {},
   "outputs": [],
   "source": [
    "%load_ext autoreload\n",
    "%autoreload 2"
   ]
  },
  {
   "cell_type": "code",
   "execution_count": 2,
   "metadata": {},
   "outputs": [],
   "source": [
    "import sys\n",
    "sys.path.append('../')"
   ]
  },
  {
   "cell_type": "code",
   "execution_count": 3,
   "metadata": {},
   "outputs": [],
   "source": [
    "import pandas as pd\n",
    "sythetic_qa = pd.read_csv('../data/20240801-092254testset.csv')"
   ]
  },
  {
   "cell_type": "code",
   "execution_count": 4,
   "metadata": {},
   "outputs": [
    {
     "data": {
      "text/html": [
       "<div>\n",
       "<style scoped>\n",
       "    .dataframe tbody tr th:only-of-type {\n",
       "        vertical-align: middle;\n",
       "    }\n",
       "\n",
       "    .dataframe tbody tr th {\n",
       "        vertical-align: top;\n",
       "    }\n",
       "\n",
       "    .dataframe thead th {\n",
       "        text-align: right;\n",
       "    }\n",
       "</style>\n",
       "<table border=\"1\" class=\"dataframe\">\n",
       "  <thead>\n",
       "    <tr style=\"text-align: right;\">\n",
       "      <th></th>\n",
       "      <th>question</th>\n",
       "      <th>contexts</th>\n",
       "      <th>ground_truth</th>\n",
       "      <th>evolution_type</th>\n",
       "      <th>metadata</th>\n",
       "      <th>episode_done</th>\n",
       "    </tr>\n",
       "  </thead>\n",
       "  <tbody>\n",
       "    <tr>\n",
       "      <th>0</th>\n",
       "      <td>What is the purpose and impact of Nigeria's fr...</td>\n",
       "      <td>['Lagos, Nigeria (CNN)It\\'s a unique world whe...</td>\n",
       "      <td>The purpose of Nigeria's free readers associat...</td>\n",
       "      <td>simple</td>\n",
       "      <td>[{'id': '17826cf095dd6517a4c8b7baf46ed2cbc5522...</td>\n",
       "      <td>True</td>\n",
       "    </tr>\n",
       "    <tr>\n",
       "      <th>1</th>\n",
       "      <td>What role did Ronda Rousey play in Wrestlemani...</td>\n",
       "      <td>['(CNN)Dwayne \"The Rock\" Johnson had a way bet...</td>\n",
       "      <td>Ronda Rousey teamed up with Dwayne 'The Rock' ...</td>\n",
       "      <td>simple</td>\n",
       "      <td>[{'id': 'f434c1ec5d1a67a3bb2df0460a2a2f488e125...</td>\n",
       "      <td>True</td>\n",
       "    </tr>\n",
       "    <tr>\n",
       "      <th>2</th>\n",
       "      <td>What was the target and casualty count of the ...</td>\n",
       "      <td>['Mogadishu, Somalia (CNN)Islamic militants wi...</td>\n",
       "      <td>The attack in Baidoa, Somalia targeted the gov...</td>\n",
       "      <td>reasoning</td>\n",
       "      <td>[{'id': '13ab781de6cc935158714597e74cac5fc8e36...</td>\n",
       "      <td>True</td>\n",
       "    </tr>\n",
       "    <tr>\n",
       "      <th>3</th>\n",
       "      <td>What led to Arnold Palmer's shoulder dislocati...</td>\n",
       "      <td>['(CNN)He may be suffering from the effects of...</td>\n",
       "      <td>Arnold Palmer's shoulder dislocation during th...</td>\n",
       "      <td>reasoning</td>\n",
       "      <td>[{'id': '149faf0f84414ada3206851365fe82e1947b7...</td>\n",
       "      <td>True</td>\n",
       "    </tr>\n",
       "    <tr>\n",
       "      <th>4</th>\n",
       "      <td>What are the latest census findings on the tig...</td>\n",
       "      <td>['(CNN)\"The Law of the Jungle, which never ord...</td>\n",
       "      <td>The latest tiger census counted 2,226 big cats...</td>\n",
       "      <td>reasoning</td>\n",
       "      <td>[{'id': 'ec1c094bf1f0511520fa9e95149d2edca31f0...</td>\n",
       "      <td>True</td>\n",
       "    </tr>\n",
       "  </tbody>\n",
       "</table>\n",
       "</div>"
      ],
      "text/plain": [
       "                                            question  \\\n",
       "0  What is the purpose and impact of Nigeria's fr...   \n",
       "1  What role did Ronda Rousey play in Wrestlemani...   \n",
       "2  What was the target and casualty count of the ...   \n",
       "3  What led to Arnold Palmer's shoulder dislocati...   \n",
       "4  What are the latest census findings on the tig...   \n",
       "\n",
       "                                            contexts  \\\n",
       "0  ['Lagos, Nigeria (CNN)It\\'s a unique world whe...   \n",
       "1  ['(CNN)Dwayne \"The Rock\" Johnson had a way bet...   \n",
       "2  ['Mogadishu, Somalia (CNN)Islamic militants wi...   \n",
       "3  ['(CNN)He may be suffering from the effects of...   \n",
       "4  ['(CNN)\"The Law of the Jungle, which never ord...   \n",
       "\n",
       "                                        ground_truth evolution_type  \\\n",
       "0  The purpose of Nigeria's free readers associat...         simple   \n",
       "1  Ronda Rousey teamed up with Dwayne 'The Rock' ...         simple   \n",
       "2  The attack in Baidoa, Somalia targeted the gov...      reasoning   \n",
       "3  Arnold Palmer's shoulder dislocation during th...      reasoning   \n",
       "4  The latest tiger census counted 2,226 big cats...      reasoning   \n",
       "\n",
       "                                            metadata  episode_done  \n",
       "0  [{'id': '17826cf095dd6517a4c8b7baf46ed2cbc5522...          True  \n",
       "1  [{'id': 'f434c1ec5d1a67a3bb2df0460a2a2f488e125...          True  \n",
       "2  [{'id': '13ab781de6cc935158714597e74cac5fc8e36...          True  \n",
       "3  [{'id': '149faf0f84414ada3206851365fe82e1947b7...          True  \n",
       "4  [{'id': 'ec1c094bf1f0511520fa9e95149d2edca31f0...          True  "
      ]
     },
     "execution_count": 4,
     "metadata": {},
     "output_type": "execute_result"
    }
   ],
   "source": [
    "sythetic_qa.head()"
   ]
  },
  {
   "cell_type": "code",
   "execution_count": 5,
   "metadata": {},
   "outputs": [],
   "source": [
    "# make pandas data view more readable\n",
    "pd.set_option('display.max_colwidth', None)"
   ]
  },
  {
   "cell_type": "code",
   "execution_count": 6,
   "metadata": {},
   "outputs": [],
   "source": [
    "# reset pandas display options\n",
    "pd.set_option('display.max_colwidth', 50)"
   ]
  },
  {
   "cell_type": "code",
   "execution_count": 7,
   "metadata": {},
   "outputs": [
    {
     "data": {
      "text/html": [
       "<div>\n",
       "<style scoped>\n",
       "    .dataframe tbody tr th:only-of-type {\n",
       "        vertical-align: middle;\n",
       "    }\n",
       "\n",
       "    .dataframe tbody tr th {\n",
       "        vertical-align: top;\n",
       "    }\n",
       "\n",
       "    .dataframe thead th {\n",
       "        text-align: right;\n",
       "    }\n",
       "</style>\n",
       "<table border=\"1\" class=\"dataframe\">\n",
       "  <thead>\n",
       "    <tr style=\"text-align: right;\">\n",
       "      <th></th>\n",
       "      <th>question</th>\n",
       "      <th>ground_truth</th>\n",
       "      <th>evolution_type</th>\n",
       "      <th>metadata</th>\n",
       "      <th>episode_done</th>\n",
       "    </tr>\n",
       "  </thead>\n",
       "  <tbody>\n",
       "    <tr>\n",
       "      <th>0</th>\n",
       "      <td>What is the purpose and impact of Nigeria's fr...</td>\n",
       "      <td>The purpose of Nigeria's free readers associat...</td>\n",
       "      <td>simple</td>\n",
       "      <td>[{'id': '17826cf095dd6517a4c8b7baf46ed2cbc5522...</td>\n",
       "      <td>True</td>\n",
       "    </tr>\n",
       "    <tr>\n",
       "      <th>1</th>\n",
       "      <td>What role did Ronda Rousey play in Wrestlemani...</td>\n",
       "      <td>Ronda Rousey teamed up with Dwayne 'The Rock' ...</td>\n",
       "      <td>simple</td>\n",
       "      <td>[{'id': 'f434c1ec5d1a67a3bb2df0460a2a2f488e125...</td>\n",
       "      <td>True</td>\n",
       "    </tr>\n",
       "    <tr>\n",
       "      <th>2</th>\n",
       "      <td>What was the target and casualty count of the ...</td>\n",
       "      <td>The attack in Baidoa, Somalia targeted the gov...</td>\n",
       "      <td>reasoning</td>\n",
       "      <td>[{'id': '13ab781de6cc935158714597e74cac5fc8e36...</td>\n",
       "      <td>True</td>\n",
       "    </tr>\n",
       "    <tr>\n",
       "      <th>3</th>\n",
       "      <td>What led to Arnold Palmer's shoulder dislocati...</td>\n",
       "      <td>Arnold Palmer's shoulder dislocation during th...</td>\n",
       "      <td>reasoning</td>\n",
       "      <td>[{'id': '149faf0f84414ada3206851365fe82e1947b7...</td>\n",
       "      <td>True</td>\n",
       "    </tr>\n",
       "    <tr>\n",
       "      <th>4</th>\n",
       "      <td>What are the latest census findings on the tig...</td>\n",
       "      <td>The latest tiger census counted 2,226 big cats...</td>\n",
       "      <td>reasoning</td>\n",
       "      <td>[{'id': 'ec1c094bf1f0511520fa9e95149d2edca31f0...</td>\n",
       "      <td>True</td>\n",
       "    </tr>\n",
       "    <tr>\n",
       "      <th>5</th>\n",
       "      <td>What is the term for the time it takes Iran to...</td>\n",
       "      <td>The term for the time it takes Iran to produce...</td>\n",
       "      <td>reasoning</td>\n",
       "      <td>[{'id': '5a7e729e9e69ca44f74cadc9f3ff2169f126f...</td>\n",
       "      <td>True</td>\n",
       "    </tr>\n",
       "    <tr>\n",
       "      <th>6</th>\n",
       "      <td>What does \"Gift Horse\" by Hans Haacke say abou...</td>\n",
       "      <td>'Gift Horse' by Hans Haacke is a comment on th...</td>\n",
       "      <td>multi_context</td>\n",
       "      <td>[{'id': 'bf021e9986c394b2285a4b3481850018966fa...</td>\n",
       "      <td>True</td>\n",
       "    </tr>\n",
       "    <tr>\n",
       "      <th>7</th>\n",
       "      <td>What was Simone Gbagbo's role in the crimes ag...</td>\n",
       "      <td>Simone Gbagbo was convicted for her role in ca...</td>\n",
       "      <td>multi_context</td>\n",
       "      <td>[{'id': 'b27cfe53f31128646368411a53a2afc41f405...</td>\n",
       "      <td>True</td>\n",
       "    </tr>\n",
       "  </tbody>\n",
       "</table>\n",
       "</div>"
      ],
      "text/plain": [
       "                                            question  \\\n",
       "0  What is the purpose and impact of Nigeria's fr...   \n",
       "1  What role did Ronda Rousey play in Wrestlemani...   \n",
       "2  What was the target and casualty count of the ...   \n",
       "3  What led to Arnold Palmer's shoulder dislocati...   \n",
       "4  What are the latest census findings on the tig...   \n",
       "5  What is the term for the time it takes Iran to...   \n",
       "6  What does \"Gift Horse\" by Hans Haacke say abou...   \n",
       "7  What was Simone Gbagbo's role in the crimes ag...   \n",
       "\n",
       "                                        ground_truth evolution_type  \\\n",
       "0  The purpose of Nigeria's free readers associat...         simple   \n",
       "1  Ronda Rousey teamed up with Dwayne 'The Rock' ...         simple   \n",
       "2  The attack in Baidoa, Somalia targeted the gov...      reasoning   \n",
       "3  Arnold Palmer's shoulder dislocation during th...      reasoning   \n",
       "4  The latest tiger census counted 2,226 big cats...      reasoning   \n",
       "5  The term for the time it takes Iran to produce...      reasoning   \n",
       "6  'Gift Horse' by Hans Haacke is a comment on th...  multi_context   \n",
       "7  Simone Gbagbo was convicted for her role in ca...  multi_context   \n",
       "\n",
       "                                            metadata  episode_done  \n",
       "0  [{'id': '17826cf095dd6517a4c8b7baf46ed2cbc5522...          True  \n",
       "1  [{'id': 'f434c1ec5d1a67a3bb2df0460a2a2f488e125...          True  \n",
       "2  [{'id': '13ab781de6cc935158714597e74cac5fc8e36...          True  \n",
       "3  [{'id': '149faf0f84414ada3206851365fe82e1947b7...          True  \n",
       "4  [{'id': 'ec1c094bf1f0511520fa9e95149d2edca31f0...          True  \n",
       "5  [{'id': '5a7e729e9e69ca44f74cadc9f3ff2169f126f...          True  \n",
       "6  [{'id': 'bf021e9986c394b2285a4b3481850018966fa...          True  \n",
       "7  [{'id': 'b27cfe53f31128646368411a53a2afc41f405...          True  "
      ]
     },
     "execution_count": 7,
     "metadata": {},
     "output_type": "execute_result"
    }
   ],
   "source": [
    "sythetic_qa.drop('contexts', axis=1, inplace=True)\n",
    "sythetic_qa.head(10)"
   ]
  },
  {
   "cell_type": "code",
   "execution_count": 8,
   "metadata": {},
   "outputs": [
    {
     "data": {
      "text/html": [
       "<div>\n",
       "<style scoped>\n",
       "    .dataframe tbody tr th:only-of-type {\n",
       "        vertical-align: middle;\n",
       "    }\n",
       "\n",
       "    .dataframe tbody tr th {\n",
       "        vertical-align: top;\n",
       "    }\n",
       "\n",
       "    .dataframe thead th {\n",
       "        text-align: right;\n",
       "    }\n",
       "</style>\n",
       "<table border=\"1\" class=\"dataframe\">\n",
       "  <thead>\n",
       "    <tr style=\"text-align: right;\">\n",
       "      <th></th>\n",
       "      <th>question</th>\n",
       "      <th>ground_truth</th>\n",
       "      <th>evolution_type</th>\n",
       "      <th>metadata</th>\n",
       "      <th>episode_done</th>\n",
       "    </tr>\n",
       "  </thead>\n",
       "  <tbody>\n",
       "    <tr>\n",
       "      <th>0</th>\n",
       "      <td>What is the purpose and impact of Nigeria's fr...</td>\n",
       "      <td>The purpose of Nigeria's free readers associat...</td>\n",
       "      <td>simple</td>\n",
       "      <td>[{'id': '17826cf095dd6517a4c8b7baf46ed2cbc5522...</td>\n",
       "      <td>True</td>\n",
       "    </tr>\n",
       "    <tr>\n",
       "      <th>1</th>\n",
       "      <td>What role did Ronda Rousey play in Wrestlemani...</td>\n",
       "      <td>Ronda Rousey teamed up with Dwayne 'The Rock' ...</td>\n",
       "      <td>simple</td>\n",
       "      <td>[{'id': 'f434c1ec5d1a67a3bb2df0460a2a2f488e125...</td>\n",
       "      <td>True</td>\n",
       "    </tr>\n",
       "    <tr>\n",
       "      <th>2</th>\n",
       "      <td>What was the target and casualty count of the ...</td>\n",
       "      <td>The attack in Baidoa, Somalia targeted the gov...</td>\n",
       "      <td>reasoning</td>\n",
       "      <td>[{'id': '13ab781de6cc935158714597e74cac5fc8e36...</td>\n",
       "      <td>True</td>\n",
       "    </tr>\n",
       "    <tr>\n",
       "      <th>3</th>\n",
       "      <td>What led to Arnold Palmer's shoulder dislocati...</td>\n",
       "      <td>Arnold Palmer's shoulder dislocation during th...</td>\n",
       "      <td>reasoning</td>\n",
       "      <td>[{'id': '149faf0f84414ada3206851365fe82e1947b7...</td>\n",
       "      <td>True</td>\n",
       "    </tr>\n",
       "    <tr>\n",
       "      <th>4</th>\n",
       "      <td>What are the latest census findings on the tig...</td>\n",
       "      <td>The latest tiger census counted 2,226 big cats...</td>\n",
       "      <td>reasoning</td>\n",
       "      <td>[{'id': 'ec1c094bf1f0511520fa9e95149d2edca31f0...</td>\n",
       "      <td>True</td>\n",
       "    </tr>\n",
       "    <tr>\n",
       "      <th>5</th>\n",
       "      <td>What is the term for the time it takes Iran to...</td>\n",
       "      <td>The term for the time it takes Iran to produce...</td>\n",
       "      <td>reasoning</td>\n",
       "      <td>[{'id': '5a7e729e9e69ca44f74cadc9f3ff2169f126f...</td>\n",
       "      <td>True</td>\n",
       "    </tr>\n",
       "    <tr>\n",
       "      <th>6</th>\n",
       "      <td>What does \"Gift Horse\" by Hans Haacke say abou...</td>\n",
       "      <td>'Gift Horse' by Hans Haacke is a comment on th...</td>\n",
       "      <td>multi_context</td>\n",
       "      <td>[{'id': 'bf021e9986c394b2285a4b3481850018966fa...</td>\n",
       "      <td>True</td>\n",
       "    </tr>\n",
       "    <tr>\n",
       "      <th>7</th>\n",
       "      <td>What was Simone Gbagbo's role in the crimes ag...</td>\n",
       "      <td>Simone Gbagbo was convicted for her role in ca...</td>\n",
       "      <td>multi_context</td>\n",
       "      <td>[{'id': 'b27cfe53f31128646368411a53a2afc41f405...</td>\n",
       "      <td>True</td>\n",
       "    </tr>\n",
       "  </tbody>\n",
       "</table>\n",
       "</div>"
      ],
      "text/plain": [
       "                                            question  \\\n",
       "0  What is the purpose and impact of Nigeria's fr...   \n",
       "1  What role did Ronda Rousey play in Wrestlemani...   \n",
       "2  What was the target and casualty count of the ...   \n",
       "3  What led to Arnold Palmer's shoulder dislocati...   \n",
       "4  What are the latest census findings on the tig...   \n",
       "5  What is the term for the time it takes Iran to...   \n",
       "6  What does \"Gift Horse\" by Hans Haacke say abou...   \n",
       "7  What was Simone Gbagbo's role in the crimes ag...   \n",
       "\n",
       "                                        ground_truth evolution_type  \\\n",
       "0  The purpose of Nigeria's free readers associat...         simple   \n",
       "1  Ronda Rousey teamed up with Dwayne 'The Rock' ...         simple   \n",
       "2  The attack in Baidoa, Somalia targeted the gov...      reasoning   \n",
       "3  Arnold Palmer's shoulder dislocation during th...      reasoning   \n",
       "4  The latest tiger census counted 2,226 big cats...      reasoning   \n",
       "5  The term for the time it takes Iran to produce...      reasoning   \n",
       "6  'Gift Horse' by Hans Haacke is a comment on th...  multi_context   \n",
       "7  Simone Gbagbo was convicted for her role in ca...  multi_context   \n",
       "\n",
       "                                            metadata  episode_done  \n",
       "0  [{'id': '17826cf095dd6517a4c8b7baf46ed2cbc5522...          True  \n",
       "1  [{'id': 'f434c1ec5d1a67a3bb2df0460a2a2f488e125...          True  \n",
       "2  [{'id': '13ab781de6cc935158714597e74cac5fc8e36...          True  \n",
       "3  [{'id': '149faf0f84414ada3206851365fe82e1947b7...          True  \n",
       "4  [{'id': 'ec1c094bf1f0511520fa9e95149d2edca31f0...          True  \n",
       "5  [{'id': '5a7e729e9e69ca44f74cadc9f3ff2169f126f...          True  \n",
       "6  [{'id': 'bf021e9986c394b2285a4b3481850018966fa...          True  \n",
       "7  [{'id': 'b27cfe53f31128646368411a53a2afc41f405...          True  "
      ]
     },
     "execution_count": 8,
     "metadata": {},
     "output_type": "execute_result"
    }
   ],
   "source": [
    "sythetic_qa.head(10)"
   ]
  },
  {
   "cell_type": "code",
   "execution_count": 9,
   "metadata": {},
   "outputs": [],
   "source": [
    "from scripts.ragas_evaluation import RagasEvaluation\n",
    "from scripts.generate_test_name import get_test_name"
   ]
  },
  {
   "cell_type": "code",
   "execution_count": 10,
   "metadata": {},
   "outputs": [
    {
     "name": "stdout",
     "output_type": "stream",
     "text": [
      "gpt35turbo_hybrid_recursive_900_50_hyde\n"
     ]
    }
   ],
   "source": [
    "test_name = get_test_name()\n",
    "test_name = test_name.replace('-', '')\n",
    "print(test_name)"
   ]
  },
  {
   "cell_type": "code",
   "execution_count": 11,
   "metadata": {},
   "outputs": [
    {
     "data": {
      "application/vnd.jupyter.widget-view+json": {
       "model_id": "f018f3a9b07945c8b13945f28646f47f",
       "version_major": 2,
       "version_minor": 0
      },
      "text/plain": [
       "Evaluating:   0%|          | 0/9 [00:00<?, ?it/s]"
      ]
     },
     "metadata": {},
     "output_type": "display_data"
    }
   ],
   "source": [
    "gpt35turbo_qdrant_dense_recursive_900_50_no_translation = RagasEvaluation(\n",
    "    test_name,\n",
    "    number_of_questions=6)"
   ]
  },
  {
   "cell_type": "code",
   "execution_count": 14,
   "metadata": {},
   "outputs": [
    {
     "data": {
      "text/html": [
       "<div>\n",
       "<style scoped>\n",
       "    .dataframe tbody tr th:only-of-type {\n",
       "        vertical-align: middle;\n",
       "    }\n",
       "\n",
       "    .dataframe tbody tr th {\n",
       "        vertical-align: top;\n",
       "    }\n",
       "\n",
       "    .dataframe thead th {\n",
       "        text-align: right;\n",
       "    }\n",
       "</style>\n",
       "<table border=\"1\" class=\"dataframe\">\n",
       "  <thead>\n",
       "    <tr style=\"text-align: right;\">\n",
       "      <th></th>\n",
       "      <th>question</th>\n",
       "      <th>answer</th>\n",
       "      <th>contexts</th>\n",
       "      <th>ground_truth</th>\n",
       "      <th>context_recall</th>\n",
       "      <th>faithfulness</th>\n",
       "      <th>answer_correctness</th>\n",
       "      <th>evolution_type</th>\n",
       "    </tr>\n",
       "  </thead>\n",
       "  <tbody>\n",
       "    <tr>\n",
       "      <th>0</th>\n",
       "      <td>What is the term for the time it takes Iran to...</td>\n",
       "      <td>The term for the time it takes Iran to produce...</td>\n",
       "      <td>[can do what they want.\" Diplomats said Iran h...</td>\n",
       "      <td>The term for the time it takes Iran to produce...</td>\n",
       "      <td>1.0</td>\n",
       "      <td>1.000000</td>\n",
       "      <td>0.848981</td>\n",
       "      <td>reasoning</td>\n",
       "    </tr>\n",
       "    <tr>\n",
       "      <th>1</th>\n",
       "      <td>What does \"Gift Horse\" by Hans Haacke say abou...</td>\n",
       "      <td>\"Gift Horse\" by Hans Haacke explores the relat...</td>\n",
       "      <td>[Haacke has frequently explored the interconne...</td>\n",
       "      <td>'Gift Horse' by Hans Haacke is a comment on th...</td>\n",
       "      <td>1.0</td>\n",
       "      <td>0.833333</td>\n",
       "      <td>0.619863</td>\n",
       "      <td>multi_context</td>\n",
       "    </tr>\n",
       "    <tr>\n",
       "      <th>2</th>\n",
       "      <td>What was Simone Gbagbo's role in the crimes ag...</td>\n",
       "      <td>Simone Gbagbo was convicted for her role in ca...</td>\n",
       "      <td>[(CNN)A court in Ivory Coast has sentenced for...</td>\n",
       "      <td>Simone Gbagbo was convicted for her role in ca...</td>\n",
       "      <td>1.0</td>\n",
       "      <td>1.000000</td>\n",
       "      <td>0.675346</td>\n",
       "      <td>multi_context</td>\n",
       "    </tr>\n",
       "  </tbody>\n",
       "</table>\n",
       "</div>"
      ],
      "text/plain": [
       "                                            question  \\\n",
       "0  What is the term for the time it takes Iran to...   \n",
       "1  What does \"Gift Horse\" by Hans Haacke say abou...   \n",
       "2  What was Simone Gbagbo's role in the crimes ag...   \n",
       "\n",
       "                                              answer  \\\n",
       "0  The term for the time it takes Iran to produce...   \n",
       "1  \"Gift Horse\" by Hans Haacke explores the relat...   \n",
       "2  Simone Gbagbo was convicted for her role in ca...   \n",
       "\n",
       "                                            contexts  \\\n",
       "0  [can do what they want.\" Diplomats said Iran h...   \n",
       "1  [Haacke has frequently explored the interconne...   \n",
       "2  [(CNN)A court in Ivory Coast has sentenced for...   \n",
       "\n",
       "                                        ground_truth  context_recall  \\\n",
       "0  The term for the time it takes Iran to produce...             1.0   \n",
       "1  'Gift Horse' by Hans Haacke is a comment on th...             1.0   \n",
       "2  Simone Gbagbo was convicted for her role in ca...             1.0   \n",
       "\n",
       "   faithfulness  answer_correctness evolution_type  \n",
       "0      1.000000            0.848981      reasoning  \n",
       "1      0.833333            0.619863  multi_context  \n",
       "2      1.000000            0.675346  multi_context  "
      ]
     },
     "execution_count": 14,
     "metadata": {},
     "output_type": "execute_result"
    }
   ],
   "source": [
    "gpt35turbo_qdrant_dense_recursive_900_50_no_translation.result_df.head()"
   ]
  },
  {
   "cell_type": "code",
   "execution_count": 15,
   "metadata": {},
   "outputs": [
    {
     "data": {
      "image/png": "[encoded data removed]",
      "text/plain": [
       "<Figure size 600x300 with 1 Axes>"
      ]
     },
     "metadata": {},
     "output_type": "display_data"
    }
   ],
   "source": [
    "gpt35turbo_qdrant_dense_recursive_900_50_no_translation.plot_evaluation()"
   ]
  },
  {
   "cell_type": "code",
   "execution_count": 11,
   "metadata": {},
   "outputs": [
    {
     "data": {
      "application/vnd.jupyter.widget-view+json": {
       "model_id": "9c91d9bd43b64d35bc6650a1f2486abc",
       "version_major": 2,
       "version_minor": 0
      },
      "text/plain": [
       "Evaluating:   0%|          | 0/18 [00:00<?, ?it/s]"
      ]
     },
     "metadata": {},
     "output_type": "display_data"
    }
   ],
   "source": [
    "gpt35turbo_hybrid_recursive_900_50_no_translation = RagasEvaluation(\n",
    "    test_name,\n",
    "    number_of_questions=6)"
   ]
  },
  {
   "cell_type": "code",
   "execution_count": 22,
   "metadata": {},
   "outputs": [
    {
     "data": {
      "text/html": [
       "<div>\n",
       "<style scoped>\n",
       "    .dataframe tbody tr th:only-of-type {\n",
       "        vertical-align: middle;\n",
       "    }\n",
       "\n",
       "    .dataframe tbody tr th {\n",
       "        vertical-align: top;\n",
       "    }\n",
       "\n",
       "    .dataframe thead th {\n",
       "        text-align: right;\n",
       "    }\n",
       "</style>\n",
       "<table border=\"1\" class=\"dataframe\">\n",
       "  <thead>\n",
       "    <tr style=\"text-align: right;\">\n",
       "      <th></th>\n",
       "      <th>question</th>\n",
       "      <th>answer</th>\n",
       "      <th>contexts</th>\n",
       "      <th>ground_truth</th>\n",
       "      <th>context_recall</th>\n",
       "      <th>faithfulness</th>\n",
       "      <th>answer_correctness</th>\n",
       "      <th>evolution_type</th>\n",
       "    </tr>\n",
       "  </thead>\n",
       "  <tbody>\n",
       "    <tr>\n",
       "      <th>0</th>\n",
       "      <td>What is the purpose and impact of Nigeria's fr...</td>\n",
       "      <td>The purpose of Nigeria's free readers associat...</td>\n",
       "      <td>[Lagos, Nigeria (CNN)It's a unique world where...</td>\n",
       "      <td>The purpose of Nigeria's free readers associat...</td>\n",
       "      <td>1.0</td>\n",
       "      <td>0.80</td>\n",
       "      <td>0.745490</td>\n",
       "      <td>simple</td>\n",
       "    </tr>\n",
       "    <tr>\n",
       "      <th>1</th>\n",
       "      <td>What role did Ronda Rousey play in Wrestlemani...</td>\n",
       "      <td>Ronda Rousey teamed up with Dwayne \"The Rock\" ...</td>\n",
       "      <td>[(CNN)Dwayne \"The Rock\" Johnson had a way bett...</td>\n",
       "      <td>Ronda Rousey teamed up with Dwayne 'The Rock' ...</td>\n",
       "      <td>1.0</td>\n",
       "      <td>0.00</td>\n",
       "      <td>0.999918</td>\n",
       "      <td>simple</td>\n",
       "    </tr>\n",
       "    <tr>\n",
       "      <th>2</th>\n",
       "      <td>What was the target and casualty count of the ...</td>\n",
       "      <td>The target of the attack in Baidoa, Somalia wa...</td>\n",
       "      <td>[initial assault, Abdi said. Al-Shabaab claime...</td>\n",
       "      <td>The attack in Baidoa, Somalia targeted the gov...</td>\n",
       "      <td>0.0</td>\n",
       "      <td>1.00</td>\n",
       "      <td>0.227924</td>\n",
       "      <td>reasoning</td>\n",
       "    </tr>\n",
       "    <tr>\n",
       "      <th>3</th>\n",
       "      <td>What led to Arnold Palmer's shoulder dislocati...</td>\n",
       "      <td>Arnold Palmer's shoulder dislocation was cause...</td>\n",
       "      <td>[(CNN)He may be suffering from the effects of ...</td>\n",
       "      <td>Arnold Palmer's shoulder dislocation during th...</td>\n",
       "      <td>1.0</td>\n",
       "      <td>1.00</td>\n",
       "      <td>0.238042</td>\n",
       "      <td>reasoning</td>\n",
       "    </tr>\n",
       "    <tr>\n",
       "      <th>4</th>\n",
       "      <td>What are the latest census findings on the tig...</td>\n",
       "      <td>The latest tiger census in India counted 2,226...</td>\n",
       "      <td>[farmer that the cat that ate his cow is more ...</td>\n",
       "      <td>The latest tiger census counted 2,226 big cats...</td>\n",
       "      <td>0.5</td>\n",
       "      <td>0.75</td>\n",
       "      <td>0.791965</td>\n",
       "      <td>reasoning</td>\n",
       "    </tr>\n",
       "    <tr>\n",
       "      <th>5</th>\n",
       "      <td>What is the term for the time it takes Iran to...</td>\n",
       "      <td>The term for the time it takes Iran to produce...</td>\n",
       "      <td>[as the other side's intransigence in the talk...</td>\n",
       "      <td>The term for the time it takes Iran to produce...</td>\n",
       "      <td>1.0</td>\n",
       "      <td>1.00</td>\n",
       "      <td>0.849187</td>\n",
       "      <td>reasoning</td>\n",
       "    </tr>\n",
       "  </tbody>\n",
       "</table>\n",
       "</div>"
      ],
      "text/plain": [
       "                                            question  \\\n",
       "0  What is the purpose and impact of Nigeria's fr...   \n",
       "1  What role did Ronda Rousey play in Wrestlemani...   \n",
       "2  What was the target and casualty count of the ...   \n",
       "3  What led to Arnold Palmer's shoulder dislocati...   \n",
       "4  What are the latest census findings on the tig...   \n",
       "5  What is the term for the time it takes Iran to...   \n",
       "\n",
       "                                              answer  \\\n",
       "0  The purpose of Nigeria's free readers associat...   \n",
       "1  Ronda Rousey teamed up with Dwayne \"The Rock\" ...   \n",
       "2  The target of the attack in Baidoa, Somalia wa...   \n",
       "3  Arnold Palmer's shoulder dislocation was cause...   \n",
       "4  The latest tiger census in India counted 2,226...   \n",
       "5  The term for the time it takes Iran to produce...   \n",
       "\n",
       "                                            contexts  \\\n",
       "0  [Lagos, Nigeria (CNN)It's a unique world where...   \n",
       "1  [(CNN)Dwayne \"The Rock\" Johnson had a way bett...   \n",
       "2  [initial assault, Abdi said. Al-Shabaab claime...   \n",
       "3  [(CNN)He may be suffering from the effects of ...   \n",
       "4  [farmer that the cat that ate his cow is more ...   \n",
       "5  [as the other side's intransigence in the talk...   \n",
       "\n",
       "                                        ground_truth  context_recall  \\\n",
       "0  The purpose of Nigeria's free readers associat...             1.0   \n",
       "1  Ronda Rousey teamed up with Dwayne 'The Rock' ...             1.0   \n",
       "2  The attack in Baidoa, Somalia targeted the gov...             0.0   \n",
       "3  Arnold Palmer's shoulder dislocation during th...             1.0   \n",
       "4  The latest tiger census counted 2,226 big cats...             0.5   \n",
       "5  The term for the time it takes Iran to produce...             1.0   \n",
       "\n",
       "   faithfulness  answer_correctness evolution_type  \n",
       "0          0.80            0.745490         simple  \n",
       "1          0.00            0.999918         simple  \n",
       "2          1.00            0.227924      reasoning  \n",
       "3          1.00            0.238042      reasoning  \n",
       "4          0.75            0.791965      reasoning  \n",
       "5          1.00            0.849187      reasoning  "
      ]
     },
     "execution_count": 22,
     "metadata": {},
     "output_type": "execute_result"
    }
   ],
   "source": [
    "gpt35turbo_hybrid_recursive_900_50_no_translation.result_df.head(10)"
   ]
  },
  {
   "cell_type": "code",
   "execution_count": 13,
   "metadata": {},
   "outputs": [
    {
     "data": {
      "image/png": "[encoded data removed]",
      "text/plain": [
       "<Figure size 600x300 with 1 Axes>"
      ]
     },
     "metadata": {},
     "output_type": "display_data"
    }
   ],
   "source": [
    "gpt35turbo_hybrid_recursive_900_50_no_translation.plot_evaluation()"
   ]
  },
  {
   "cell_type": "code",
   "execution_count": 15,
   "metadata": {},
   "outputs": [
    {
     "data": {
      "text/plain": [
       "'What was the target and casualty count of the attack in Baidoa, Somalia?'"
      ]
     },
     "execution_count": 15,
     "metadata": {},
     "output_type": "execute_result"
    }
   ],
   "source": [
    "gpt35turbo_hybrid_recursive_900_50_no_translation.result_df['question'][2]"
   ]
  },
  {
   "cell_type": "code",
   "execution_count": 16,
   "metadata": {},
   "outputs": [
    {
     "data": {
      "text/plain": [
       "'The target of the attack in Baidoa, Somalia was Ethiopian soldiers, and seven of them were killed.'"
      ]
     },
     "execution_count": 16,
     "metadata": {},
     "output_type": "execute_result"
    }
   ],
   "source": [
    "gpt35turbo_hybrid_recursive_900_50_no_translation.result_df['answer'][2]"
   ]
  },
  {
   "cell_type": "code",
   "execution_count": 17,
   "metadata": {},
   "outputs": [
    {
     "data": {
      "text/plain": [
       "'The attack in Baidoa, Somalia targeted the government administration offices. The casualty count was nine people, including four attackers, killed.'"
      ]
     },
     "execution_count": 17,
     "metadata": {},
     "output_type": "execute_result"
    }
   ],
   "source": [
    "gpt35turbo_hybrid_recursive_900_50_no_translation.result_df['ground_truth'][2]"
   ]
  },
  {
   "cell_type": "code",
   "execution_count": 21,
   "metadata": {},
   "outputs": [
    {
     "data": {
      "text/plain": [
       "array(['initial assault, Abdi said. Al-Shabaab claimed responsibility for the attack. A broadcast by the group\\'s official radio station, Andulus, said that Al-Shabaab gunmen had entered the regional president\\'s house and killed seven Ethiopian soldiers. The African Union\\'s special representative for Somalia, Ambassador Maman S. Sidikou, condemned the attack, saying it had targeted troops who have worked to restore peace to Baidoa. \"I am deeply saddened by news of the attack in Baidoa this morning,\" he said in a statement released by AMISOM, the African Union mission to Somalia. Sidikou said he had also received reports of an attempted attack at a Mogadishu hotel Wednesday night. \"These are desperate attempts by Al-Shabaab to seek relevance, following the massive defeats they continue to suffer from the Somali National Army working together with AMISOM troops,\" he said. Al-Shabaab started with a\\n\\ninitial assault, Abdi said. Al-Shabaab claimed responsibility for the attack. A broadcast by the group\\'s official radio station, Andulus, said that Al-Shabaab gunmen had entered the regional president\\'s house and killed seven Ethiopian soldiers. The African Union\\'s special representative for Somalia, Ambassador Maman S. Sidikou, condemned the attack, saying it had targeted troops who have worked to restore peace to Baidoa. \"I am deeply saddened by news of the attack in Baidoa this morning,\" he said in a statement released by AMISOM, the African Union mission to Somalia. Sidikou said he had also received reports of an attempted attack at a Mogadishu hotel Wednesday night. \"These are desperate attempts by Al-Shabaab to seek relevance, following the massive defeats they continue to suffer from the Somali National Army working together with AMISOM troops,\" he said. Al-Shabaab started with a\\n\\ninitial assault, Abdi said. Al-Shabaab claimed responsibility for the attack. A broadcast by the group\\'s official radio station, Andulus, said that Al-Shabaab gunmen had entered the regional president\\'s house and killed seven Ethiopian soldiers. The African Union\\'s special representative for Somalia, Ambassador Maman S. Sidikou, condemned the attack, saying it had targeted troops who have worked to restore peace to Baidoa. \"I am deeply saddened by news of the attack in Baidoa this morning,\" he said in a statement released by AMISOM, the African Union mission to Somalia. Sidikou said he had also received reports of an attempted attack at a Mogadishu hotel Wednesday night. \"These are desperate attempts by Al-Shabaab to seek relevance, following the massive defeats they continue to suffer from the Somali National Army working together with AMISOM troops,\" he said. Al-Shabaab started with a\\n\\ninitial assault, Abdi said. Al-Shabaab claimed responsibility for the attack. A broadcast by the group\\'s official radio station, Andulus, said that Al-Shabaab gunmen had entered the regional president\\'s house and killed seven Ethiopian soldiers. The African Union\\'s special representative for Somalia, Ambassador Maman S. Sidikou, condemned the attack, saying it had targeted troops who have worked to restore peace to Baidoa. \"I am deeply saddened by news of the attack in Baidoa this morning,\" he said in a statement released by AMISOM, the African Union mission to Somalia. Sidikou said he had also received reports of an attempted attack at a Mogadishu hotel Wednesday night. \"These are desperate attempts by Al-Shabaab to seek relevance, following the massive defeats they continue to suffer from the Somali National Army working together with AMISOM troops,\" he said. Al-Shabaab started with a'],\n",
       "      dtype=object)"
      ]
     },
     "execution_count": 21,
     "metadata": {},
     "output_type": "execute_result"
    }
   ],
   "source": [
    "gpt35turbo_hybrid_recursive_900_50_no_translation.result_df['contexts'][2]"
   ]
  },
  {
   "cell_type": "code",
   "execution_count": 11,
   "metadata": {},
   "outputs": [
    {
     "data": {
      "application/vnd.jupyter.widget-view+json": {
       "model_id": "06909b3272d24acebdefdff5cd9e32e1",
       "version_major": 2,
       "version_minor": 0
      },
      "text/plain": [
       "Evaluating:   0%|          | 0/18 [00:00<?, ?it/s]"
      ]
     },
     "metadata": {},
     "output_type": "display_data"
    }
   ],
   "source": [
    "gpt35turbo_hybrid_recursive_900_50_hyde = RagasEvaluation(\n",
    "    test_name,\n",
    "    number_of_questions=6)"
   ]
  },
  {
   "cell_type": "code",
   "execution_count": 12,
   "metadata": {},
   "outputs": [
    {
     "data": {
      "text/html": [
       "<div>\n",
       "<style scoped>\n",
       "    .dataframe tbody tr th:only-of-type {\n",
       "        vertical-align: middle;\n",
       "    }\n",
       "\n",
       "    .dataframe tbody tr th {\n",
       "        vertical-align: top;\n",
       "    }\n",
       "\n",
       "    .dataframe thead th {\n",
       "        text-align: right;\n",
       "    }\n",
       "</style>\n",
       "<table border=\"1\" class=\"dataframe\">\n",
       "  <thead>\n",
       "    <tr style=\"text-align: right;\">\n",
       "      <th></th>\n",
       "      <th>question</th>\n",
       "      <th>answer</th>\n",
       "      <th>contexts</th>\n",
       "      <th>ground_truth</th>\n",
       "      <th>context_recall</th>\n",
       "      <th>faithfulness</th>\n",
       "      <th>answer_correctness</th>\n",
       "      <th>evolution_type</th>\n",
       "    </tr>\n",
       "  </thead>\n",
       "  <tbody>\n",
       "    <tr>\n",
       "      <th>0</th>\n",
       "      <td>What is the purpose and impact of Nigeria's fr...</td>\n",
       "      <td>The purpose of Nigeria's free readers associat...</td>\n",
       "      <td>[Lagos, Nigeria (CNN)It's a unique world where...</td>\n",
       "      <td>The purpose of Nigeria's free readers associat...</td>\n",
       "      <td>1.0</td>\n",
       "      <td>1.000000</td>\n",
       "      <td>0.704619</td>\n",
       "      <td>simple</td>\n",
       "    </tr>\n",
       "    <tr>\n",
       "      <th>1</th>\n",
       "      <td>What role did Ronda Rousey play in Wrestlemani...</td>\n",
       "      <td>Ronda Rousey made a surprise appearance at Wre...</td>\n",
       "      <td>[(CNN)Dwayne \"The Rock\" Johnson had a way bett...</td>\n",
       "      <td>Ronda Rousey teamed up with Dwayne 'The Rock' ...</td>\n",
       "      <td>1.0</td>\n",
       "      <td>0.333333</td>\n",
       "      <td>0.841788</td>\n",
       "      <td>simple</td>\n",
       "    </tr>\n",
       "    <tr>\n",
       "      <th>2</th>\n",
       "      <td>What was the target and casualty count of the ...</td>\n",
       "      <td>The target of the attack in Baidoa, Somalia wa...</td>\n",
       "      <td>[Mogadishu, Somalia (CNN)Islamic militants wit...</td>\n",
       "      <td>The attack in Baidoa, Somalia targeted the gov...</td>\n",
       "      <td>1.0</td>\n",
       "      <td>1.000000</td>\n",
       "      <td>0.748348</td>\n",
       "      <td>reasoning</td>\n",
       "    </tr>\n",
       "    <tr>\n",
       "      <th>3</th>\n",
       "      <td>What led to Arnold Palmer's shoulder dislocati...</td>\n",
       "      <td>Arnold Palmer's shoulder dislocation during th...</td>\n",
       "      <td>[(CNN)He may be suffering from the effects of ...</td>\n",
       "      <td>Arnold Palmer's shoulder dislocation during th...</td>\n",
       "      <td>1.0</td>\n",
       "      <td>0.500000</td>\n",
       "      <td>1.000000</td>\n",
       "      <td>reasoning</td>\n",
       "    </tr>\n",
       "    <tr>\n",
       "      <th>4</th>\n",
       "      <td>What are the latest census findings on the tig...</td>\n",
       "      <td>The latest tiger census in India counted 2,226...</td>\n",
       "      <td>[farmer that the cat that ate his cow is more ...</td>\n",
       "      <td>The latest tiger census counted 2,226 big cats...</td>\n",
       "      <td>0.5</td>\n",
       "      <td>1.000000</td>\n",
       "      <td>0.847752</td>\n",
       "      <td>reasoning</td>\n",
       "    </tr>\n",
       "    <tr>\n",
       "      <th>5</th>\n",
       "      <td>What is the term for the time it takes Iran to...</td>\n",
       "      <td>The term for the time it takes Iran to produce...</td>\n",
       "      <td>[as the other side's intransigence in the talk...</td>\n",
       "      <td>The term for the time it takes Iran to produce...</td>\n",
       "      <td>1.0</td>\n",
       "      <td>1.000000</td>\n",
       "      <td>0.848949</td>\n",
       "      <td>reasoning</td>\n",
       "    </tr>\n",
       "  </tbody>\n",
       "</table>\n",
       "</div>"
      ],
      "text/plain": [
       "                                            question  \\\n",
       "0  What is the purpose and impact of Nigeria's fr...   \n",
       "1  What role did Ronda Rousey play in Wrestlemani...   \n",
       "2  What was the target and casualty count of the ...   \n",
       "3  What led to Arnold Palmer's shoulder dislocati...   \n",
       "4  What are the latest census findings on the tig...   \n",
       "5  What is the term for the time it takes Iran to...   \n",
       "\n",
       "                                              answer  \\\n",
       "0  The purpose of Nigeria's free readers associat...   \n",
       "1  Ronda Rousey made a surprise appearance at Wre...   \n",
       "2  The target of the attack in Baidoa, Somalia wa...   \n",
       "3  Arnold Palmer's shoulder dislocation during th...   \n",
       "4  The latest tiger census in India counted 2,226...   \n",
       "5  The term for the time it takes Iran to produce...   \n",
       "\n",
       "                                            contexts  \\\n",
       "0  [Lagos, Nigeria (CNN)It's a unique world where...   \n",
       "1  [(CNN)Dwayne \"The Rock\" Johnson had a way bett...   \n",
       "2  [Mogadishu, Somalia (CNN)Islamic militants wit...   \n",
       "3  [(CNN)He may be suffering from the effects of ...   \n",
       "4  [farmer that the cat that ate his cow is more ...   \n",
       "5  [as the other side's intransigence in the talk...   \n",
       "\n",
       "                                        ground_truth  context_recall  \\\n",
       "0  The purpose of Nigeria's free readers associat...             1.0   \n",
       "1  Ronda Rousey teamed up with Dwayne 'The Rock' ...             1.0   \n",
       "2  The attack in Baidoa, Somalia targeted the gov...             1.0   \n",
       "3  Arnold Palmer's shoulder dislocation during th...             1.0   \n",
       "4  The latest tiger census counted 2,226 big cats...             0.5   \n",
       "5  The term for the time it takes Iran to produce...             1.0   \n",
       "\n",
       "   faithfulness  answer_correctness evolution_type  \n",
       "0      1.000000            0.704619         simple  \n",
       "1      0.333333            0.841788         simple  \n",
       "2      1.000000            0.748348      reasoning  \n",
       "3      0.500000            1.000000      reasoning  \n",
       "4      1.000000            0.847752      reasoning  \n",
       "5      1.000000            0.848949      reasoning  "
      ]
     },
     "execution_count": 12,
     "metadata": {},
     "output_type": "execute_result"
    }
   ],
   "source": [
    "gpt35turbo_hybrid_recursive_900_50_hyde.result_df.head(10)"
   ]
  },
  {
   "cell_type": "code",
   "execution_count": 13,
   "metadata": {},
   "outputs": [
    {
     "data": {
      "image/png": "[encoded data removed]",
      "text/plain": [
       "<Figure size 600x300 with 1 Axes>"
      ]
     },
     "metadata": {},
     "output_type": "display_data"
    }
   ],
   "source": [
    "gpt35turbo_hybrid_recursive_900_50_hyde.plot_evaluation()"
   ]
  },
  {
   "cell_type": "code",
   "execution_count": 38,
   "metadata": {},
   "outputs": [],
   "source": [
    "from matplotlib import pyplot as plt\n",
    "\n",
    "\n",
    "def plot_evaluation():\n",
    "    # calculate the average score of context precision per total score\n",
    "    rows = gpt35turbo_hybrid_recursive_900_50_hyde.result_df.shape[0]\n",
    "\n",
    "    context_recall_sum = gpt35turbo_hybrid_recursive_900_50_hyde.result_df['context_recall'].sum()\n",
    "    faithfulness_sum = gpt35turbo_hybrid_recursive_900_50_hyde.result_df['faithfulness'].sum()\n",
    "    answer_correctness_sum = gpt35turbo_hybrid_recursive_900_50_hyde.result_df['answer_correctness'].sum()\n",
    "\n",
    "    context_recall_score = context_recall_sum / rows * 100\n",
    "    faithfulness_score = faithfulness_sum / rows * 100\n",
    "\n",
    "    answer_correctness_score = answer_correctness_sum / rows * 100\n",
    "\n",
    "    # Visualization\n",
    "    labels = ['Context Recall', 'Faithfulness', 'Answer Correctness']\n",
    "    scores = [context_recall_score, faithfulness_score, answer_correctness_score]\n",
    "\n",
    "    plt.figure(figsize=(8, 6))\n",
    "    plt.bar(labels, scores, color=['darkBlue', 'green', 'purple'])\n",
    "    # tilt the x axis labels to 45 degrees\n",
    "    plt.xticks(rotation=45, ha='right')\n",
    "    plt.xlabel('Metrics')\n",
    "    plt.ylabel('Scores (%)')\n",
    "    plt.title(f'{gpt35turbo_hybrid_recursive_900_50_hyde.test_name} Evaluation Scores')\n",
    "    plt.ylim(0, 100)\n",
    "\n",
    "    # Annotate bars with scores\n",
    "    for i, score in enumerate(scores):\n",
    "        plt.text(i, score - 10, f'{score:.2f}%', ha='center', va='top', color='white')\n",
    "\n",
    "    # Add legend for evolution types\n",
    "    evolution_types = gpt35turbo_hybrid_recursive_900_50_hyde.result_df['evolution_type'].unique()\n",
    "    evolution_colors = ['red', 'blue', 'yellow', 'cyan']  # Define colors for each evolution type\n",
    "    color_map = {evolution: color for evolution, color in zip(evolution_types, evolution_colors)}\n",
    "\n",
    "    for evolution, color in color_map.items():\n",
    "        # make the scatter plot not overlay the bar plot\n",
    "        plt.scatter([], [], color=color, label=evolution)\n",
    "\n",
    "    plt.legend(title=\"Evolution Types\")\n",
    "\n",
    "    plt.show()"
   ]
  },
  {
   "cell_type": "code",
   "execution_count": 39,
   "metadata": {},
   "outputs": [
    {
     "data": {
      "image/png": "[encoded data removed]",
      "text/plain": [
       "<Figure size 800x600 with 1 Axes>"
      ]
     },
     "metadata": {},
     "output_type": "display_data"
    }
   ],
   "source": [
    "plot_evaluation()"
   ]
  }
 ],
 "metadata": {
  "kernelspec": {
   "display_name": "cloudspace",
   "language": "python",
   "name": "python3"
  },
  "language_info": {
   "codemirror_mode": {
    "name": "ipython",
    "version": 3
   },
   "file_extension": ".py",
   "mimetype": "text/x-python",
   "name": "python",
   "nbconvert_exporter": "python",
   "pygments_lexer": "ipython3",
   "version": "3.10.14"
  }
 },
 "nbformat": 4,
 "nbformat_minor": 2
}
